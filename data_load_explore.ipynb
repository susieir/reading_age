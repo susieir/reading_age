{
 "metadata": {
  "language_info": {
   "codemirror_mode": {
    "name": "ipython",
    "version": 3
   },
   "file_extension": ".py",
   "mimetype": "text/x-python",
   "name": "python",
   "nbconvert_exporter": "python",
   "pygments_lexer": "ipython3",
   "version": "3.8.6-final"
  },
  "orig_nbformat": 2,
  "kernelspec": {
   "name": "python3",
   "display_name": "Python 3",
   "language": "python"
  }
 },
 "nbformat": 4,
 "nbformat_minor": 2,
 "cells": [
  {
   "source": [
    "## Reading age dataset\n",
    "### Exploratory data analyis\n",
    "- Load dataset and review\n",
    "- Encoding:\n",
    "    - As the data is OCR data there are a number of characters that have not been successfully read - these may show up as errors in the text\n",
    "- Data review\n",
    "    - The data has 3 columns and 7,584 rows\n",
    "    - Age - 39 unique values\n",
    "        - In the original dataset there are 15 observations where the data has not split correctly, and the age column includes             some text. As simple solution these columns have now been removed to form `df_clean`\n",
    "        - Data checks were continued on `df_clean` \n",
    "    - After cleaning\n",
    "        - There were no missing values in any column\n",
    "        - Currently all data types are set to objects:\n",
    "        -   Excerpt - to be set to string **to be updated**\n",
    "        -   Book_and_page - to be set to string **to be updated**\n",
    "        -   Age - to be set to categorical (tbc) **to be updated**\n",
    "        -   Duplicated data\n",
    "            -   Excerpt - 7,584 observations, with 5,934 unique observations (1,650 duplicates)\n",
    "            -   Book and page - 7,583 observations, with 4,559 unique observations (3,024 duplicates)\n",
    "            -   Execerpt & Book_and_page combined - \n",
    "    "
   ],
   "cell_type": "markdown",
   "metadata": {}
  },
  {
   "source": [
    "# Import modules\n",
    "import pandas as pd\n",
    "import numpy as np\n",
    "import nltk"
   ],
   "cell_type": "code",
   "metadata": {},
   "execution_count": 70,
   "outputs": []
  },
  {
   "cell_type": "code",
   "execution_count": 36,
   "metadata": {},
   "outputs": [
    {
     "output_type": "stream",
     "name": "stdout",
     "text": [
      "                             excerpt book_and_page age\n0   Tom and Ifra tug the big carrot.                 1\n1       Tom, Ifra, Nick and Lin tug.                 1\n2  Tom, Ifra, Nick, Lin and Sam tug.                 1\n3        Nick, Lin, Sam and Kit tug.                 1\n4            Up pops the big carrot!                 1\n"
     ]
    }
   ],
   "source": [
    "# File path\n",
    "file_path = 'ocr_data.xlsx'\n",
    "\n",
    "# Read excel file, add column names\n",
    "df = pd.read_excel(file_path, names=['excerpt','book_and_page','age'], usecols=[0, 1, 2], skiprows=[0])\n",
    "\n",
    "# Print file\n",
    "print(df.head())\n"
   ]
  },
  {
   "cell_type": "code",
   "execution_count": 37,
   "metadata": {
    "tags": []
   },
   "outputs": [
    {
     "output_type": "stream",
     "name": "stdout",
     "text": [
      "<class 'pandas.core.frame.DataFrame'>\nRangeIndex: 7584 entries, 0 to 7583\nData columns (total 3 columns):\n #   Column         Non-Null Count  Dtype \n---  ------         --------------  ----- \n 0   excerpt        7584 non-null   object\n 1   book_and_page  7583 non-null   object\n 2   age            7583 non-null   object\ndtypes: object(3)\nmemory usage: 177.9+ KB\nNone\n"
     ]
    }
   ],
   "source": [
    "# Explore df\n",
    "print(df.info())"
   ]
  },
  {
   "cell_type": "code",
   "execution_count": 38,
   "metadata": {},
   "outputs": [
    {
     "output_type": "stream",
     "name": "stdout",
     "text": [
      "(7584, 3)\n"
     ]
    }
   ],
   "source": [
    "# Print shape\n",
    "print(df.shape)"
   ]
  },
  {
   "cell_type": "code",
   "execution_count": 47,
   "metadata": {},
   "outputs": [
    {
     "output_type": "stream",
     "name": "stdout",
     "text": [
      "                                                  excerpt     book_and_page  \\\ncount                                                7584              7583   \nunique                                               5934              4559   \ntop     We are travelling through space on board the m...   Double Exposure   \nfreq                                                   11               181   \n\n         age  \ncount   7583  \nunique    39  \ntop       11  \nfreq     957  \n"
     ]
    }
   ],
   "source": [
    "# Description\n",
    "print(df.describe())"
   ]
  },
  {
   "cell_type": "code",
   "execution_count": 120,
   "metadata": {
    "tags": []
   },
   "outputs": [
    {
     "output_type": "stream",
     "name": "stdout",
     "text": [
      "                             excerpt book_and_page age\n0   Tom and Ifra tug the big carrot.                 1\n1       Tom, Ifra, Nick and Lin tug.                 1\n2  Tom, Ifra, Nick, Lin and Sam tug.                 1\n3        Nick, Lin, Sam and Kit tug.                 1\n4            Up pops the big carrot!                 1\n(7569, 3)\n"
     ]
    }
   ],
   "source": [
    "# Check age variable\n",
    "#print(df.age.unique())\n",
    "\n",
    "def filter_list(col):\n",
    "    \"\"\" Function that retains only integer values in a given column\"\"\"\n",
    "    f_list = []\n",
    "    for i, x in df['age'].iteritems():\n",
    "        if isinstance(x, int) == True:\n",
    "            f_list.append(i)\n",
    "    return f_list\n",
    "\n",
    "# Run filter list function on age column\n",
    "filter_list = filter_list(df['age'])\n",
    "\n",
    "# Filter for observations where age is an integer\n",
    "df_clean = df.loc[filter_list]\n",
    "print(df_clean.head())\n",
    "print(df_clean.shape)\n"
   ]
  },
  {
   "cell_type": "code",
   "execution_count": 123,
   "metadata": {},
   "outputs": [
    {
     "output_type": "stream",
     "name": "stdout",
     "text": [
      "<class 'pandas.core.frame.DataFrame'>\nInt64Index: 7569 entries, 0 to 7583\nData columns (total 3 columns):\n #   Column         Non-Null Count  Dtype \n---  ------         --------------  ----- \n 0   excerpt        7569 non-null   object\n 1   book_and_page  7569 non-null   object\n 2   age            7569 non-null   object\ndtypes: object(3)\nmemory usage: 236.5+ KB\n"
     ]
    },
    {
     "output_type": "execute_result",
     "data": {
      "text/plain": [
       "                                                  excerpt     book_and_page  \\\n",
       "count                                                7569              7569   \n",
       "unique                                               5920              4547   \n",
       "top     We are travelling through space on board the m...   Double Exposure   \n",
       "freq                                                   11               181   \n",
       "\n",
       "         age  \n",
       "count   7569  \n",
       "unique    27  \n",
       "top       11  \n",
       "freq     957  "
      ],
      "text/html": "<div>\n<style scoped>\n    .dataframe tbody tr th:only-of-type {\n        vertical-align: middle;\n    }\n\n    .dataframe tbody tr th {\n        vertical-align: top;\n    }\n\n    .dataframe thead th {\n        text-align: right;\n    }\n</style>\n<table border=\"1\" class=\"dataframe\">\n  <thead>\n    <tr style=\"text-align: right;\">\n      <th></th>\n      <th>excerpt</th>\n      <th>book_and_page</th>\n      <th>age</th>\n    </tr>\n  </thead>\n  <tbody>\n    <tr>\n      <th>count</th>\n      <td>7569</td>\n      <td>7569</td>\n      <td>7569</td>\n    </tr>\n    <tr>\n      <th>unique</th>\n      <td>5920</td>\n      <td>4547</td>\n      <td>27</td>\n    </tr>\n    <tr>\n      <th>top</th>\n      <td>We are travelling through space on board the m...</td>\n      <td>Double Exposure</td>\n      <td>11</td>\n    </tr>\n    <tr>\n      <th>freq</th>\n      <td>11</td>\n      <td>181</td>\n      <td>957</td>\n    </tr>\n  </tbody>\n</table>\n</div>"
     },
     "metadata": {},
     "execution_count": 123
    }
   ],
   "source": [
    "# Check df_clean\n",
    "df_clean.info()\n",
    "\n",
    "# Describe df_clean\n",
    "df_clean.describe()"
   ]
  },
  {
   "cell_type": "code",
   "execution_count": 151,
   "metadata": {},
   "outputs": [
    {
     "output_type": "stream",
     "name": "stdout",
     "text": [
      "There are 1650 duplicated rows in the excerpt column\nChip had a bug.Big bad bug pg8/572_right.png\nThere are 1603 duplicated rows in the concatenated excerpt and book column\n"
     ]
    }
   ],
   "source": [
    "# Check for duplicated observations in excerpt column\n",
    "excerpt_dup = df.excerpt.duplicated()\n",
    "no_dup_rows_excerpt = sum([x for x in excerpt_dup if x == True])\n",
    "print(\"There are {} duplicated rows in the excerpt column\".format(no_dup_rows_excerpt))\n",
    "\n",
    "# Check for duplicated observations in the excerpt and book and page columns concatenated\n",
    "df['excerpt_and_book'] = df['excerpt'] + df['book_and_page']\n",
    "excerpt_and_book_dup = df.excerpt_and_book.duplicated()\n",
    "no_dup_rows_excerpt_and_book = sum([x for x in excerpt_and_book_dup if x == True])\n",
    "print(\"There are {} duplicated rows in the concatenated excerpt and book column\".format(no_dup_rows_excerpt_and_book))"
   ]
  }
 ]
}