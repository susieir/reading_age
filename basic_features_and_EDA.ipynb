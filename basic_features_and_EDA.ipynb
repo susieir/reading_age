{
 "metadata": {
  "language_info": {
   "codemirror_mode": {
    "name": "ipython",
    "version": 3
   },
   "file_extension": ".py",
   "mimetype": "text/x-python",
   "name": "python",
   "nbconvert_exporter": "python",
   "pygments_lexer": "ipython3",
   "version": "3.8.3-final"
  },
  "orig_nbformat": 2,
  "kernelspec": {
   "name": "python3",
   "display_name": "Python 3",
   "language": "python"
  }
 },
 "nbformat": 4,
 "nbformat_minor": 2,
 "cells": [
  {
   "source": [
    "#### Basic features and EDA\n",
    "##### Basic features\n",
    "- Number of words\n",
    "- Average length of words\n",
    "- Standard deviation of word length\n",
    "- Number of sentences\n",
    "- Average length of sentences\n",
    "- Standard deviation of sentence length\n",
    "- Number of paragraphs\n",
    "- Average length of paragraphs\n",
    "- Standard deviation of paragraph length\n",
    "- Total number of unique words\n",
    "- Measure of word repetition"
   ],
   "cell_type": "markdown",
   "metadata": {}
  },
  {
   "cell_type": "code",
   "execution_count": 5,
   "metadata": {},
   "outputs": [
    {
     "output_type": "error",
     "ename": "ModuleNotFoundError",
     "evalue": "No module named 'data_load_and_explore'",
     "traceback": [
      "\u001b[1;31m---------------------------------------------------------------------------\u001b[0m",
      "\u001b[1;31mModuleNotFoundError\u001b[0m                       Traceback (most recent call last)",
      "\u001b[1;32m<ipython-input-5-135766afaff0>\u001b[0m in \u001b[0;36m<module>\u001b[1;34m\u001b[0m\n\u001b[1;32m----> 1\u001b[1;33m \u001b[1;32mfrom\u001b[0m \u001b[0mdata_load_and_explore\u001b[0m \u001b[1;32mimport\u001b[0m \u001b[0mload_and_clean\u001b[0m\u001b[1;33m\u001b[0m\u001b[1;33m\u001b[0m\u001b[0m\n\u001b[0m\u001b[0;32m      2\u001b[0m \u001b[1;33m\u001b[0m\u001b[0m\n\u001b[0;32m      3\u001b[0m \u001b[0mdf_clean\u001b[0m \u001b[1;33m=\u001b[0m \u001b[0mdle\u001b[0m\u001b[1;33m.\u001b[0m\u001b[0mload_and_clean\u001b[0m\u001b[1;33m(\u001b[0m\u001b[1;33m)\u001b[0m\u001b[1;33m\u001b[0m\u001b[1;33m\u001b[0m\u001b[0m\n",
      "\u001b[1;31mModuleNotFoundError\u001b[0m: No module named 'data_load_and_explore'"
     ]
    }
   ],
   "source": [
    "from data_load_and_explore import load_and_clean\n",
    "\n",
    "df_clean = dle.load_and_clean()"
   ]
  }
 ]
}